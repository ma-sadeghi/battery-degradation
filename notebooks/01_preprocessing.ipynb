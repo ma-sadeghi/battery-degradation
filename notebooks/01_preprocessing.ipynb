{
 "cells": [
  {
   "cell_type": "code",
   "execution_count": 26,
   "metadata": {},
   "outputs": [
    {
     "name": "stdout",
     "output_type": "stream",
     "text": [
      "The autoreload extension is already loaded. To reload it, use:\n",
      "  %reload_ext autoreload\n"
     ]
    }
   ],
   "source": [
    "%load_ext autoreload\n",
    "%autoreload 2\n",
    "\n",
    "import os\n",
    "import glob\n",
    "import shutil\n",
    "import pandas as pd\n",
    "import numpy as np\n",
    "from tqdm.auto import tqdm\n",
    "\n",
    "import autoeis as ae\n",
    "from helpers import *\n"
   ]
  },
  {
   "cell_type": "markdown",
   "metadata": {},
   "source": [
    "# Load Jones (2022) dataset"
   ]
  },
  {
   "cell_type": "code",
   "execution_count": 28,
   "metadata": {},
   "outputs": [
    {
     "name": "stdout",
     "output_type": "stream",
     "text": [
      "Number of files: 256\n"
     ]
    },
    {
     "data": {
      "text/plain": [
       "['dataset/JonesLee2022/raw-data/fixed-discharge/PJ131/PJ131_002_01_GEIS_CA3.txt',\n",
       " 'dataset/JonesLee2022/raw-data/fixed-discharge/PJ131/PJ131_002_03_GEIS_CA3.txt',\n",
       " 'dataset/JonesLee2022/raw-data/fixed-discharge/PJ131/PJ131_002_07_GEIS_CA3.txt',\n",
       " 'dataset/JonesLee2022/raw-data/fixed-discharge/PJ131/PJ131_002_05_GEIS_CA3.txt',\n",
       " 'dataset/JonesLee2022/raw-data/fixed-discharge/PJ131/PJ131_002_09_GEIS_CA3.txt']"
      ]
     },
     "execution_count": 28,
     "metadata": {},
     "output_type": "execute_result"
    }
   ],
   "source": [
    "# Load EIS dataset\n",
    "path_dataset = 'dataset/PJ131'\n",
    "# path_eis_data = os.path.join(path_dataset, 'eis-raw')\n",
    "path_eis_data = \"dataset/JonesLee2022/raw-data/fixed-discharge/PJ131\"\n",
    "\n",
    "file_list = glob.glob(os.path.join(path_eis_data, '*.txt'))\n",
    "file_list = [file for file in file_list if is_valid_eis_file(file)]\n",
    "print(f\"Number of files: {len(file_list)}\")\n",
    "\n",
    "file_list.sort(key=get_cycle_number)\n",
    "file_list[:5]\n"
   ]
  },
  {
   "cell_type": "code",
   "execution_count": 29,
   "metadata": {},
   "outputs": [],
   "source": [
    "# Define the path to the folder where the output data files will be saved\n",
    "path_processed_data = os.path.join(path_dataset, 'eis-processed')\n",
    "os.makedirs(path_processed_data, exist_ok=True)\n"
   ]
  },
  {
   "cell_type": "markdown",
   "metadata": {},
   "source": [
    "# Preprocessing via Lin-KK validation"
   ]
  },
  {
   "cell_type": "code",
   "execution_count": 30,
   "metadata": {
    "scrolled": true
   },
   "outputs": [
    {
     "data": {
      "application/vnd.jupyter.widget-view+json": {
       "model_id": "2818cfed36514ad99016d642937074cf",
       "version_major": 2,
       "version_minor": 0
      },
      "text/plain": [
       "Processing EIS data:   0%|          | 0/256 [00:00<?, ?it/s]"
      ]
     },
     "metadata": {},
     "output_type": "display_data"
    },
    {
     "name": "stdout",
     "output_type": "stream",
     "text": [
      "File dataset/JonesLee2022/raw-data/fixed-discharge/PJ131/PJ131_033_15_GEIS_CA3.txt is empty\n"
     ]
    }
   ],
   "source": [
    "for fpath in tqdm(file_list, desc=\"Processing EIS data\"):\n",
    "    df = pd.read_csv(fpath, sep=\"\\t\")\n",
    "    if df.empty:\n",
    "        print(f\"File {fpath} is empty\")\n",
    "        continue\n",
    "\n",
    "    # ?: Rename the columns\n",
    "    # new_col = [\n",
    "    #     \"freq/Hz\", \"Re(Z)/Ohm\", \"=-@Im(Z)/@Ohm\", \"|Z|/Ohm\", \"Phase(Z)/deg\", \"time/s\",\n",
    "    #     \"<Ewe>/V\", \"<I>/mA\", \"Cs/µF\", \"Cp/µF\", \"cycle number\", \"I Range\", \"|Ewe|/V\",\n",
    "    #     \"|I|/A\", \"Ns\", \"(Q-Qo)/mA.h\", \"Re(Y)/Ohm-1\", \"Im(Y)/Ohm-1\", \"|Y|/Ohm-1\",\n",
    "    #     \"Phase(Y)/deg\", \"dq/mA.h\",\n",
    "    # ]\n",
    "    # df.columns = new_col\n",
    "\n",
    "    freq = np.array(df[\"freq/Hz\"]).astype(float)\n",
    "    reals = np.array(df[\"Re(Z)/Ohm\"]).astype(float)\n",
    "    imags = -np.array(df[\"-Im(Z)/Ohm\"]).astype(float)\n",
    "    impedance = reals + imags * 1j\n",
    "\n",
    "    # Preprocess the impedance data\n",
    "    try:\n",
    "        eis_data, R, rmse = ae.preprocess_impedance_data(impedance, freq, threshold=0.05)\n",
    "    except Exception as e:\n",
    "        print(f\"Cannot preprocess due to {e}\")\n",
    "        continue\n",
    "\n",
    "    # Save preprocessed data to csv\n",
    "    saveto = os.path.join(path_processed_data, os.path.basename(fpath))\n",
    "    saveto = saveto.replace('.txt', '.csv')\n",
    "    eis_data.to_csv(saveto, header=None, index=False)\n"
   ]
  },
  {
   "cell_type": "markdown",
   "metadata": {},
   "source": [
    "# Sort data into charge/dischage conditions"
   ]
  },
  {
   "cell_type": "code",
   "execution_count": 31,
   "metadata": {},
   "outputs": [],
   "source": [
    "path_sorted_data = os.path.join(path_dataset, 'eis-sorted')\n",
    "\n",
    "# Create subfolders to store charge/discharge files\n",
    "path_discharge_data = os.path.join(path_sorted_data, 'discharge')\n",
    "path_charge_data = os.path.join(path_sorted_data, 'charge')\n",
    "\n",
    "os.makedirs(path_discharge_data, exist_ok=True)\n",
    "os.makedirs(path_charge_data, exist_ok=True)\n",
    "\n",
    "file_list = glob.glob(os.path.join(path_processed_data, '*.csv'))\n",
    "\n",
    "# Loop through the processed files and copy them to charge/discharge folders\n",
    "for fpath in file_list:\n",
    "    test_condition = get_test_condition(fpath)\n",
    "    if test_condition == \"discharge\":\n",
    "        shutil.copy(fpath, path_discharge_data)\n",
    "    elif test_condition == \"charge\":\n",
    "        shutil.copy(fpath, path_charge_data)\n",
    "    else:\n",
    "        print(f\"Cannot sort {fpath}\")\n"
   ]
  }
 ],
 "metadata": {
  "kernelspec": {
   "display_name": "Python 3 (ipykernel)",
   "language": "python",
   "name": "python3"
  },
  "language_info": {
   "codemirror_mode": {
    "name": "ipython",
    "version": 3
   },
   "file_extension": ".py",
   "mimetype": "text/x-python",
   "name": "python",
   "nbconvert_exporter": "python",
   "pygments_lexer": "ipython3",
   "version": "3.11.5"
  },
  "vscode": {
   "interpreter": {
    "hash": "7e1998ff7f8aa20ada591c520b972326324e5ea05489af9e422744c7c09f6dad"
   }
  }
 },
 "nbformat": 4,
 "nbformat_minor": 4
}
