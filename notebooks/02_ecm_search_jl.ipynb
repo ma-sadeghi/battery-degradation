{
 "cells": [
  {
   "cell_type": "code",
   "execution_count": 13,
   "id": "259de896",
   "metadata": {},
   "outputs": [
    {
     "name": "stderr",
     "output_type": "stream",
     "text": [
      "\u001b[32m\u001b[1m  Activating\u001b[22m\u001b[39m project at `~/.julia/environments/autoeis-0.0.17`\n"
     ]
    }
   ],
   "source": [
    "# Activate the environment\n",
    "using Pkg\n",
    "Pkg.activate(\"autoeis-0.0.17\", shared=true)\n",
    "\n",
    "using CSV\n",
    "using DataFrames\n",
    "using DelimitedFiles\n",
    "using StringEncodings\n",
    "using Base\n",
    "using EquivalentCircuits\n",
    "using Serialization\n",
    "using Glob\n",
    "# using FilePathsBase\n"
   ]
  },
  {
   "cell_type": "code",
   "execution_count": 39,
   "id": "a8710685",
   "metadata": {
    "scrolled": true
   },
   "outputs": [
    {
     "name": "stdout",
     "output_type": "stream",
     "text": [
      "fpath = \"dataset/PJ122/eis-sorted/charge/PJ122_002_03_GEIS_CA2.csv\"\n"
     ]
    }
   ],
   "source": [
    "path_eis = \"dataset/PJ122/eis-sorted/charge\"\n",
    "path_ecm = \"dataset/PJ122/ecm/charge\"\n",
    "\n",
    "for fpath in glob(joinpath(path_eis, \"*.csv\"))[1:1]\n",
    "    @show fpath\n",
    "    df = CSV.read(fpath, DataFrame, header=[\"freq\", \"Zreal\", \"Zimag\"])\n",
    "\n",
    "    freq = df[:, \"freq\"]\n",
    "    reals = df[:, \"Zreal\"]\n",
    "    imags = df[:, \"Zimag\"]\n",
    "    impedance = reals + imags*im\n",
    "\n",
    "    # test_circuit = \"R1-P2-[P3,R4]-[P5,R6]\"\n",
    "    # data_ecm = string((parameteroptimisation(test_circuit,measurements,frequencies)))\n",
    "\n",
    "    # iteration_count = 0\n",
    "    # max_iterations = 10\n",
    "\n",
    "    # while (data_ecm[1] < 0.05 || data_ecm[1] > 0.2) && iteration_count < max_iterations\n",
    "    #     test_circuit = \"R1-P2-[P3,R4]-[P5,R6]\"\n",
    "    #     data_ecm = parameteroptimisation(test_circuit, measurements, frequencies)\n",
    "    #     iteration_count += 1\n",
    "    # end\n",
    "\n",
    "    # if iteration_count == max_iterations\n",
    "    #     println(\"Max iterations reached, skipping dataset: $file\")\n",
    "    #     continue\n",
    "    # end\n",
    "\n",
    "    # print(data_ecm)\n",
    "\n",
    "    # file_path = joinpath(ecm_output_folder,file)\n",
    "\n",
    "    # ECM = DataFrame(Any[Dict(\"Parameters\"=>data_ecm,\"Circuit\"=>test_circuit)])\n",
    "    # CSV.write(\"$ecm_output_folder/$file\", ECM)\n",
    "end\n"
   ]
  }
 ],
 "metadata": {
  "kernelspec": {
   "display_name": "Julia 1.9.3",
   "language": "julia",
   "name": "julia-1.9"
  },
  "language_info": {
   "file_extension": ".jl",
   "mimetype": "application/julia",
   "name": "julia",
   "version": "1.9.3"
  }
 },
 "nbformat": 4,
 "nbformat_minor": 5
}
