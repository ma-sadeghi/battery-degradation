{
 "cells": [
  {
   "cell_type": "code",
   "execution_count": 1,
   "id": "259de896",
   "metadata": {},
   "outputs": [],
   "source": [
    "import glob\n",
    "import os\n",
    "\n",
    "import autoeis as ae\n",
    "\n",
    "from helpers import *\n"
   ]
  },
  {
   "cell_type": "code",
   "execution_count": 2,
   "id": "a8710685",
   "metadata": {
    "scrolled": true
   },
   "outputs": [
    {
     "data": {
      "application/vnd.jupyter.widget-view+json": {
       "model_id": "6663835243624fab8b6f35a02696f91c",
       "version_major": 2,
       "version_minor": 0
      },
      "text/plain": [
       "Circuit Evolution:   0%|          | 0/50 [00:00<?, ?it/s]"
      ]
     },
     "metadata": {},
     "output_type": "display_data"
    }
   ],
   "source": [
    "path_eis = \"dataset/PJ131/eis-sorted/charge\"\n",
    "path_ecm = \"dataset/PJ131/ecm/charge\"\n",
    "\n",
    "file_list = glob.glob(os.path.join(path_eis, \"*.csv\"))\n",
    "file_list.sort(key=get_cycle_number)\n",
    "\n",
    "fpath = file_list[0]\n",
    "df = ae.io.load_eis_data(fpath, column_indices=[0, 1, 2])\n",
    "freq = df[\"freq\"].values\n",
    "Zreal = df[\"Zreal\"].values\n",
    "Zimag = df[\"Zimag\"].values\n",
    "Z = Zreal + 1j * Zimag\n",
    "\n",
    "ecms = ae.generate_equivalent_circuits(Z, freq, iters=50, tol=1e-4)\n"
   ]
  },
  {
   "cell_type": "code",
   "execution_count": 11,
   "metadata": {},
   "outputs": [
    {
     "name": "stdout",
     "output_type": "stream",
     "text": [
      "ECMs remaining after filtering: 22/47\n"
     ]
    }
   ],
   "source": [
    "# Filter unphysical circuits\n",
    "ohmic_resistance = ae.core.find_ohmic_resistance(Zreal, Zimag)\n",
    "ecms_filtered = ae.core.apply_heuristic_rules(ecms.copy(), ohmic_resistance)\n",
    "print(f\"ECMs remaining after filtering: {len(ecms_filtered)}/{len(ecms)}\")\n",
    "\n",
    "# Save ECMs to disk, both raw and filtered\n",
    "ecms.to_csv(os.path.join(path_ecm, os.path.basename(fpath)), index=False)\n",
    "# ecms_filtered.to_csv(os.path.join(path_ecm, os.path.basename(fpath)))\n"
   ]
  }
 ],
 "metadata": {
  "kernelspec": {
   "display_name": "autoeis",
   "language": "python",
   "name": "python3"
  },
  "language_info": {
   "codemirror_mode": {
    "name": "ipython",
    "version": 3
   },
   "file_extension": ".py",
   "mimetype": "text/x-python",
   "name": "python",
   "nbconvert_exporter": "python",
   "pygments_lexer": "ipython3",
   "version": "3.11.5"
  }
 },
 "nbformat": 4,
 "nbformat_minor": 5
}
